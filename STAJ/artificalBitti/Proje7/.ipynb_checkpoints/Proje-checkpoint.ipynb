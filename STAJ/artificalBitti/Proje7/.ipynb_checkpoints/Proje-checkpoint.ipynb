{
 "cells": [
  {
   "cell_type": "code",
   "execution_count": 2,
   "id": "21fb0151-a64a-4465-a6eb-7d8b0aa9e609",
   "metadata": {},
   "outputs": [
    {
     "data": {
      "text/html": [
       "<div>\n",
       "<style scoped>\n",
       "    .dataframe tbody tr th:only-of-type {\n",
       "        vertical-align: middle;\n",
       "    }\n",
       "\n",
       "    .dataframe tbody tr th {\n",
       "        vertical-align: top;\n",
       "    }\n",
       "\n",
       "    .dataframe thead th {\n",
       "        text-align: right;\n",
       "    }\n",
       "</style>\n",
       "<table border=\"1\" class=\"dataframe\">\n",
       "  <thead>\n",
       "    <tr style=\"text-align: right;\">\n",
       "      <th></th>\n",
       "      <th>x</th>\n",
       "      <th>y</th>\n",
       "      <th>class</th>\n",
       "    </tr>\n",
       "  </thead>\n",
       "  <tbody>\n",
       "    <tr>\n",
       "      <th>0</th>\n",
       "      <td>26.75</td>\n",
       "      <td>22.15</td>\n",
       "      <td>b'1'</td>\n",
       "    </tr>\n",
       "    <tr>\n",
       "      <th>1</th>\n",
       "      <td>29.80</td>\n",
       "      <td>22.15</td>\n",
       "      <td>b'1'</td>\n",
       "    </tr>\n",
       "    <tr>\n",
       "      <th>2</th>\n",
       "      <td>31.55</td>\n",
       "      <td>21.10</td>\n",
       "      <td>b'1'</td>\n",
       "    </tr>\n",
       "    <tr>\n",
       "      <th>3</th>\n",
       "      <td>27.70</td>\n",
       "      <td>20.85</td>\n",
       "      <td>b'1'</td>\n",
       "    </tr>\n",
       "    <tr>\n",
       "      <th>4</th>\n",
       "      <td>29.90</td>\n",
       "      <td>19.95</td>\n",
       "      <td>b'1'</td>\n",
       "    </tr>\n",
       "    <tr>\n",
       "      <th>...</th>\n",
       "      <td>...</td>\n",
       "      <td>...</td>\n",
       "      <td>...</td>\n",
       "    </tr>\n",
       "    <tr>\n",
       "      <th>394</th>\n",
       "      <td>15.85</td>\n",
       "      <td>9.95</td>\n",
       "      <td>b'6'</td>\n",
       "    </tr>\n",
       "    <tr>\n",
       "      <th>395</th>\n",
       "      <td>15.35</td>\n",
       "      <td>9.90</td>\n",
       "      <td>b'6'</td>\n",
       "    </tr>\n",
       "    <tr>\n",
       "      <th>396</th>\n",
       "      <td>15.60</td>\n",
       "      <td>9.45</td>\n",
       "      <td>b'6'</td>\n",
       "    </tr>\n",
       "    <tr>\n",
       "      <th>397</th>\n",
       "      <td>15.30</td>\n",
       "      <td>9.15</td>\n",
       "      <td>b'6'</td>\n",
       "    </tr>\n",
       "    <tr>\n",
       "      <th>398</th>\n",
       "      <td>15.10</td>\n",
       "      <td>9.55</td>\n",
       "      <td>b'6'</td>\n",
       "    </tr>\n",
       "  </tbody>\n",
       "</table>\n",
       "<p>399 rows × 3 columns</p>\n",
       "</div>"
      ],
      "text/plain": [
       "         x      y class\n",
       "0    26.75  22.15  b'1'\n",
       "1    29.80  22.15  b'1'\n",
       "2    31.55  21.10  b'1'\n",
       "3    27.70  20.85  b'1'\n",
       "4    29.90  19.95  b'1'\n",
       "..     ...    ...   ...\n",
       "394  15.85   9.95  b'6'\n",
       "395  15.35   9.90  b'6'\n",
       "396  15.60   9.45  b'6'\n",
       "397  15.30   9.15  b'6'\n",
       "398  15.10   9.55  b'6'\n",
       "\n",
       "[399 rows x 3 columns]"
      ]
     },
     "execution_count": 2,
     "metadata": {},
     "output_type": "execute_result"
    }
   ],
   "source": [
    "import pandas as pd\n",
    "from scipy.io import arff\n",
    "from sklearn.cluster import KMeans\n",
    "from sklearn.preprocessing import StandardScaler\n",
    "import matplotlib.pyplot as plt\n",
    "import numpy as np\n",
    "\n",
    "data, meta = arff.loadarff(r'C:\\Users\\gzmce\\OneDrive - Firat University\\Masaüstü\\artificalGerekli\\compound.arff')\n",
    "df = pd.DataFrame(data)\n",
    "df"
   ]
  },
  {
   "cell_type": "code",
   "execution_count": 4,
   "id": "a3f4db3d-fc20-4aa7-8b57-5ada15f5bd15",
   "metadata": {},
   "outputs": [],
   "source": [
    "from sklearn.preprocessing import StandardScaler\n",
    "\n",
    "# Sayısal verileri al\n",
    "X = np.column_stack((data['x'], data['y']))\n",
    "\n",
    "# Standartlaştırma\n",
    "scaler = StandardScaler()\n",
    "X_scaled = scaler.fit_transform(X)"
   ]
  },
  {
   "cell_type": "code",
   "execution_count": 8,
   "id": "2c806410-ad96-4b6d-a4d0-25194a338bcd",
   "metadata": {},
   "outputs": [
    {
     "name": "stdout",
     "output_type": "stream",
     "text": [
      "Index(['x', 'y', 'class'], dtype='object')\n"
     ]
    }
   ],
   "source": [
    "print(data_pd.columns)"
   ]
  },
  {
   "cell_type": "code",
   "execution_count": 9,
   "id": "e1aac95c-16a3-4ab4-b47b-86c41d23572e",
   "metadata": {},
   "outputs": [
    {
     "data": {
      "text/html": [
       "<div>\n",
       "<style scoped>\n",
       "    .dataframe tbody tr th:only-of-type {\n",
       "        vertical-align: middle;\n",
       "    }\n",
       "\n",
       "    .dataframe tbody tr th {\n",
       "        vertical-align: top;\n",
       "    }\n",
       "\n",
       "    .dataframe thead th {\n",
       "        text-align: right;\n",
       "    }\n",
       "</style>\n",
       "<table border=\"1\" class=\"dataframe\">\n",
       "  <thead>\n",
       "    <tr style=\"text-align: right;\">\n",
       "      <th></th>\n",
       "      <th>x</th>\n",
       "      <th>y</th>\n",
       "      <th>class</th>\n",
       "    </tr>\n",
       "  </thead>\n",
       "  <tbody>\n",
       "    <tr>\n",
       "      <th>0</th>\n",
       "      <td>26.75</td>\n",
       "      <td>22.15</td>\n",
       "      <td>1</td>\n",
       "    </tr>\n",
       "    <tr>\n",
       "      <th>1</th>\n",
       "      <td>29.80</td>\n",
       "      <td>22.15</td>\n",
       "      <td>1</td>\n",
       "    </tr>\n",
       "    <tr>\n",
       "      <th>2</th>\n",
       "      <td>31.55</td>\n",
       "      <td>21.10</td>\n",
       "      <td>1</td>\n",
       "    </tr>\n",
       "    <tr>\n",
       "      <th>3</th>\n",
       "      <td>27.70</td>\n",
       "      <td>20.85</td>\n",
       "      <td>1</td>\n",
       "    </tr>\n",
       "    <tr>\n",
       "      <th>4</th>\n",
       "      <td>29.90</td>\n",
       "      <td>19.95</td>\n",
       "      <td>1</td>\n",
       "    </tr>\n",
       "    <tr>\n",
       "      <th>...</th>\n",
       "      <td>...</td>\n",
       "      <td>...</td>\n",
       "      <td>...</td>\n",
       "    </tr>\n",
       "    <tr>\n",
       "      <th>394</th>\n",
       "      <td>15.85</td>\n",
       "      <td>9.95</td>\n",
       "      <td>6</td>\n",
       "    </tr>\n",
       "    <tr>\n",
       "      <th>395</th>\n",
       "      <td>15.35</td>\n",
       "      <td>9.90</td>\n",
       "      <td>6</td>\n",
       "    </tr>\n",
       "    <tr>\n",
       "      <th>396</th>\n",
       "      <td>15.60</td>\n",
       "      <td>9.45</td>\n",
       "      <td>6</td>\n",
       "    </tr>\n",
       "    <tr>\n",
       "      <th>397</th>\n",
       "      <td>15.30</td>\n",
       "      <td>9.15</td>\n",
       "      <td>6</td>\n",
       "    </tr>\n",
       "    <tr>\n",
       "      <th>398</th>\n",
       "      <td>15.10</td>\n",
       "      <td>9.55</td>\n",
       "      <td>6</td>\n",
       "    </tr>\n",
       "  </tbody>\n",
       "</table>\n",
       "<p>399 rows × 3 columns</p>\n",
       "</div>"
      ],
      "text/plain": [
       "         x      y  class\n",
       "0    26.75  22.15      1\n",
       "1    29.80  22.15      1\n",
       "2    31.55  21.10      1\n",
       "3    27.70  20.85      1\n",
       "4    29.90  19.95      1\n",
       "..     ...    ...    ...\n",
       "394  15.85   9.95      6\n",
       "395  15.35   9.90      6\n",
       "396  15.60   9.45      6\n",
       "397  15.30   9.15      6\n",
       "398  15.10   9.55      6\n",
       "\n",
       "[399 rows x 3 columns]"
      ]
     },
     "execution_count": 9,
     "metadata": {},
     "output_type": "execute_result"
    }
   ],
   "source": [
    "data_pd = pd.DataFrame(data)\n",
    "data_pd[\"class\"] = data_pd[\"class\"].apply(lambda c : c.decode(\"utf-8\"))\n",
    "data_pd[\"class\"] = data_pd[\"class\"].apply(lambda c : int(c) if c != 'noise' else -1)\n",
    "data_pd #classları sayısal yaptık."
   ]
  },
  {
   "cell_type": "code",
   "execution_count": 10,
   "id": "b1b9c2d2-92ea-40f4-b058-f097791055c9",
   "metadata": {},
   "outputs": [
    {
     "data": {
      "text/plain": [
       "class\n",
       "b'5'    158\n",
       "b'2'     92\n",
       "b'1'     50\n",
       "b'4'     45\n",
       "b'3'     38\n",
       "b'6'     16\n",
       "Name: count, dtype: int64"
      ]
     },
     "execution_count": 10,
     "metadata": {},
     "output_type": "execute_result"
    }
   ],
   "source": [
    "pd.DataFrame(data)[\"class\"].value_counts()"
   ]
  },
  {
   "cell_type": "markdown",
   "id": "48875745-fe10-45fa-8f34-b9ef21de3ed1",
   "metadata": {},
   "source": [
    "### k means"
   ]
  },
  {
   "cell_type": "code",
   "execution_count": 19,
   "id": "54f8b614-301a-4563-9ba5-37e05dd0a107",
   "metadata": {},
   "outputs": [
    {
     "name": "stderr",
     "output_type": "stream",
     "text": [
      "C:\\ProgramData\\anaconda3\\Lib\\site-packages\\sklearn\\cluster\\_kmeans.py:1429: UserWarning: KMeans is known to have a memory leak on Windows with MKL, when there are less chunks than available threads. You can avoid it by setting the environment variable OMP_NUM_THREADS=2.\n",
      "  warnings.warn(\n"
     ]
    }
   ],
   "source": [
    "for col in df.select_dtypes([object]).columns:\n",
    "    df[col] = df[col].str.decode('utf-8')\n",
    "\n",
    "X = df.iloc[:, [0, 1]].values\n",
    "\n",
    "scaler = StandardScaler()\n",
    "X_scaled = scaler.fit_transform(X)\n",
    "\n",
    "kmeans = KMeans(n_clusters=6, random_state=42)\n",
    "y_kmeans = kmeans.fit_predict(X_scaled)"
   ]
  },
  {
   "cell_type": "code",
   "execution_count": 20,
   "id": "b23f2708-d18d-41d1-aaa6-f3d0d2862f8d",
   "metadata": {},
   "outputs": [
    {
     "data": {
      "text/plain": [
       "0.683777069494397"
      ]
     },
     "execution_count": 20,
     "metadata": {},
     "output_type": "execute_result"
    }
   ],
   "source": [
    "from sklearn.metrics import normalized_mutual_info_score\n",
    "normalized_mutual_info_score(data_pd[\"class\"],y_kmeans) "
   ]
  },
  {
   "cell_type": "markdown",
   "id": "5d13786a-82fe-44dc-9beb-2cccf57fb898",
   "metadata": {},
   "source": [
    "### agglomerative"
   ]
  },
  {
   "cell_type": "code",
   "execution_count": 21,
   "id": "ec6d0332-2cc1-4a5a-acdf-0ea46116dcf4",
   "metadata": {},
   "outputs": [],
   "source": [
    "from sklearn.cluster import AgglomerativeClustering\n",
    "from sklearn.preprocessing import StandardScaler\n",
    "\n",
    "for col in df.select_dtypes([object]).columns:\n",
    "    df[col] = df[col].str.decode('utf-8')\n",
    "\n",
    "X = df.iloc[:, [0, 1]].values\n",
    "\n",
    "scaler = StandardScaler()\n",
    "X_scaled = scaler.fit_transform(X)\n",
    "\n",
    "agg = AgglomerativeClustering(n_clusters=6)\n",
    "labels_agg = agg.fit_predict(X_scaled)"
   ]
  },
  {
   "cell_type": "code",
   "execution_count": 22,
   "id": "7a6f8345-aca7-48a3-86b0-3cb8653353d8",
   "metadata": {},
   "outputs": [
    {
     "data": {
      "text/plain": [
       "0.6981450403918463"
      ]
     },
     "execution_count": 22,
     "metadata": {},
     "output_type": "execute_result"
    }
   ],
   "source": [
    "normalized_mutual_info_score(data_pd[\"class\"],labels_agg) "
   ]
  },
  {
   "cell_type": "markdown",
   "id": "a04ea470-58a8-45d8-9207-1e0ba1f5e5b2",
   "metadata": {},
   "source": [
    "### dbscan "
   ]
  },
  {
   "cell_type": "code",
   "execution_count": 47,
   "id": "f01f79ff-868e-4677-b3db-ad2b3fc72114",
   "metadata": {},
   "outputs": [],
   "source": [
    "from sklearn.cluster import DBSCAN\n",
    "from sklearn.preprocessing import StandardScaler\n",
    "import matplotlib.pyplot as plt\n",
    "\n",
    "# Kategorik sütunları decode et (gerekliyse)\n",
    "for col in df.select_dtypes([object]).columns:\n",
    "    df[col] = df[col].str.decode('utf-8')\n",
    "\n",
    "# X ve Y özelliklerini al\n",
    "X = df.iloc[:, [0, 1]].values\n",
    "\n",
    "# Standardizasyon\n",
    "scaler = StandardScaler()\n",
    "X_scaled = scaler.fit_transform(X)\n",
    "\n",
    "# DBSCAN modelini oluştur\n",
    "dbscan = DBSCAN(eps=0.2) #yada min_samples=10 değeri verilmeli\n",
    "labels = dbscan.fit_predict(X_scaled)"
   ]
  },
  {
   "cell_type": "code",
   "execution_count": 48,
   "id": "5dfcbe89-a052-477e-b592-c1a409d61a70",
   "metadata": {},
   "outputs": [
    {
     "data": {
      "text/plain": [
       "0.9040201287246405"
      ]
     },
     "execution_count": 48,
     "metadata": {},
     "output_type": "execute_result"
    }
   ],
   "source": [
    "normalized_mutual_info_score(data_pd[\"class\"],labels) "
   ]
  },
  {
   "cell_type": "markdown",
   "id": "7bccb071-5d0f-46f1-9f9e-c901814fc789",
   "metadata": {},
   "source": [
    "### mean shift"
   ]
  },
  {
   "cell_type": "code",
   "execution_count": 49,
   "id": "3e726929-3660-4057-9c08-444edaff546a",
   "metadata": {},
   "outputs": [],
   "source": [
    "from sklearn.preprocessing import StandardScaler\n",
    "from sklearn.cluster import SpectralClustering\n",
    "from sklearn.cluster import MeanShift, estimate_bandwidth\n",
    "import matplotlib.pyplot as plt\n",
    "\n",
    "# Kategorik sütunları decode et (gerekliyse)\n",
    "for col in df.select_dtypes([object]).columns:\n",
    "    df[col] = df[col].str.decode('utf-8')\n",
    "\n",
    "# X ve Y özelliklerini al\n",
    "X = df.iloc[:, [0, 1]].values\n",
    "\n",
    "# Standardizasyon\n",
    "scaler = StandardScaler()\n",
    "X_scaled = scaler.fit_transform(X)\n",
    "\n",
    " # bandwidth tahmini\n",
    "bandwidth = estimate_bandwidth(X, quantile=0.1) # yarıçap yüzdelik değeri \n",
    "mean_shift = MeanShift(bandwidth=bandwidth)\n",
    "labels_mean = mean_shift.fit_predict(X)"
   ]
  },
  {
   "cell_type": "code",
   "execution_count": 50,
   "id": "924f0b9f-cf87-4165-86d9-41de013b1328",
   "metadata": {},
   "outputs": [
    {
     "data": {
      "text/plain": [
       "0.7842630335985018"
      ]
     },
     "execution_count": 50,
     "metadata": {},
     "output_type": "execute_result"
    }
   ],
   "source": [
    "normalized_mutual_info_score(data_pd[\"class\"],labels_mean) "
   ]
  },
  {
   "cell_type": "code",
   "execution_count": 51,
   "id": "da869df9-d45b-4c51-9a32-2d5ee89ca58d",
   "metadata": {},
   "outputs": [],
   "source": [
    "#bu veri setinde farklı olarak meanshift clustering de çok hızlıydı. ama daha ilginci dbsan algoritmasında diğerlerinin aksine min_samples değerini 10 yapınca çok yüksek bir skor verdi."
   ]
  },
  {
   "cell_type": "code",
   "execution_count": 52,
   "id": "e982c270-002a-48f3-ae59-576cafa0ab74",
   "metadata": {},
   "outputs": [
    {
     "data": {
      "image/png": "[encoded data removed]",
      "text/plain": [
       "<Figure size 640x480 with 1 Axes>"
      ]
     },
     "metadata": {},
     "output_type": "display_data"
    }
   ],
   "source": [
    "plt.scatter(X_scaled[:, 0], X_scaled[:, 1], c=labels, cmap='viridis')\n",
    "plt.title('dbscan Kümeleme')\n",
    "plt.xlabel('Özellik 1')\n",
    "plt.ylabel('Özellik 2')\n",
    "plt.show()"
   ]
  },
  {
   "cell_type": "code",
   "execution_count": null,
   "id": "41ffb44f-f972-4182-b721-3d6678d6cd27",
   "metadata": {},
   "outputs": [],
   "source": []
  }
 ],
 "metadata": {
  "kernelspec": {
   "display_name": "Python 3 (ipykernel)",
   "language": "python",
   "name": "python3"
  },
  "language_info": {
   "codemirror_mode": {
    "name": "ipython",
    "version": 3
   },
   "file_extension": ".py",
   "mimetype": "text/x-python",
   "name": "python",
   "nbconvert_exporter": "python",
   "pygments_lexer": "ipython3",
   "version": "3.12.7"
  }
 },
 "nbformat": 4,
 "nbformat_minor": 5
}
