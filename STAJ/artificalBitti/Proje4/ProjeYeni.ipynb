{
 "cells": [
  {
   "cell_type": "code",
   "execution_count": 4,
   "id": "1124eb8b-5a3d-4e03-b65e-4611f6503cc9",
   "metadata": {},
   "outputs": [
    {
     "data": {
      "text/html": [
       "<div>\n",
       "<style scoped>\n",
       "    .dataframe tbody tr th:only-of-type {\n",
       "        vertical-align: middle;\n",
       "    }\n",
       "\n",
       "    .dataframe tbody tr th {\n",
       "        vertical-align: top;\n",
       "    }\n",
       "\n",
       "    .dataframe thead th {\n",
       "        text-align: right;\n",
       "    }\n",
       "</style>\n",
       "<table border=\"1\" class=\"dataframe\">\n",
       "  <thead>\n",
       "    <tr style=\"text-align: right;\">\n",
       "      <th></th>\n",
       "      <th>x</th>\n",
       "      <th>y</th>\n",
       "      <th>CLASS</th>\n",
       "    </tr>\n",
       "  </thead>\n",
       "  <tbody>\n",
       "    <tr>\n",
       "      <th>0</th>\n",
       "      <td>121.561996</td>\n",
       "      <td>81.001999</td>\n",
       "      <td>b'0'</td>\n",
       "    </tr>\n",
       "    <tr>\n",
       "      <th>1</th>\n",
       "      <td>762.096985</td>\n",
       "      <td>70.461998</td>\n",
       "      <td>b'1'</td>\n",
       "    </tr>\n",
       "    <tr>\n",
       "      <th>2</th>\n",
       "      <td>127.569000</td>\n",
       "      <td>113.457001</td>\n",
       "      <td>b'0'</td>\n",
       "    </tr>\n",
       "    <tr>\n",
       "      <th>3</th>\n",
       "      <td>95.467003</td>\n",
       "      <td>116.822998</td>\n",
       "      <td>b'0'</td>\n",
       "    </tr>\n",
       "    <tr>\n",
       "      <th>4</th>\n",
       "      <td>652.234009</td>\n",
       "      <td>60.743000</td>\n",
       "      <td>b'2'</td>\n",
       "    </tr>\n",
       "    <tr>\n",
       "      <th>...</th>\n",
       "      <td>...</td>\n",
       "      <td>...</td>\n",
       "      <td>...</td>\n",
       "    </tr>\n",
       "    <tr>\n",
       "      <th>7995</th>\n",
       "      <td>728.572998</td>\n",
       "      <td>40.826000</td>\n",
       "      <td>b'1'</td>\n",
       "    </tr>\n",
       "    <tr>\n",
       "      <th>7996</th>\n",
       "      <td>452.121002</td>\n",
       "      <td>52.111000</td>\n",
       "      <td>b'4'</td>\n",
       "    </tr>\n",
       "    <tr>\n",
       "      <th>7997</th>\n",
       "      <td>485.912994</td>\n",
       "      <td>63.375999</td>\n",
       "      <td>b'noise'</td>\n",
       "    </tr>\n",
       "    <tr>\n",
       "      <th>7998</th>\n",
       "      <td>241.496994</td>\n",
       "      <td>121.903000</td>\n",
       "      <td>b'5'</td>\n",
       "    </tr>\n",
       "    <tr>\n",
       "      <th>7999</th>\n",
       "      <td>532.468018</td>\n",
       "      <td>16.757999</td>\n",
       "      <td>b'noise'</td>\n",
       "    </tr>\n",
       "  </tbody>\n",
       "</table>\n",
       "<p>8000 rows × 3 columns</p>\n",
       "</div>"
      ],
      "text/plain": [
       "               x           y     CLASS\n",
       "0     121.561996   81.001999      b'0'\n",
       "1     762.096985   70.461998      b'1'\n",
       "2     127.569000  113.457001      b'0'\n",
       "3      95.467003  116.822998      b'0'\n",
       "4     652.234009   60.743000      b'2'\n",
       "...          ...         ...       ...\n",
       "7995  728.572998   40.826000      b'1'\n",
       "7996  452.121002   52.111000      b'4'\n",
       "7997  485.912994   63.375999  b'noise'\n",
       "7998  241.496994  121.903000      b'5'\n",
       "7999  532.468018   16.757999  b'noise'\n",
       "\n",
       "[8000 rows x 3 columns]"
      ]
     },
     "execution_count": 4,
     "metadata": {},
     "output_type": "execute_result"
    }
   ],
   "source": [
    "import pandas as pd\n",
    "from scipy.io import arff\n",
    "from sklearn.cluster import KMeans\n",
    "from sklearn.preprocessing import StandardScaler\n",
    "import matplotlib.pyplot as plt\n",
    "import numpy as np\n",
    "\n",
    "data, meta = arff.loadarff(r'C:\\Users\\gzmce\\OneDrive - Firat University\\Masaüstü\\artificalGerekli\\cluto-t5-8k.arff')\n",
    "df = pd.DataFrame(data)\n",
    "df\n"
   ]
  },
  {
   "cell_type": "code",
   "execution_count": 5,
   "id": "73ef14cd-6893-4155-ab79-d65de0de1de1",
   "metadata": {},
   "outputs": [
    {
     "data": {
      "text/plain": [
       "CLASS\n",
       "b'4'        1206\n",
       "b'2'        1198\n",
       "b'0'        1173\n",
       "b'3'        1163\n",
       "b'noise'    1153\n",
       "b'5'        1054\n",
       "b'1'        1053\n",
       "Name: count, dtype: int64"
      ]
     },
     "execution_count": 5,
     "metadata": {},
     "output_type": "execute_result"
    }
   ],
   "source": [
    "pd.DataFrame(data)[\"CLASS\"].value_counts()"
   ]
  },
  {
   "cell_type": "code",
   "execution_count": 6,
   "id": "02412f3c-14d3-4198-80ca-cfe3d9f40127",
   "metadata": {},
   "outputs": [],
   "source": [
    "from sklearn.preprocessing import StandardScaler\n",
    "\n",
    "# Sayısal verileri al\n",
    "X = np.column_stack((data['x'], data['y']))\n",
    "\n",
    "# Standartlaştırma\n",
    "scaler = StandardScaler()\n",
    "X_scaled = scaler.fit_transform(X)"
   ]
  },
  {
   "cell_type": "code",
   "execution_count": 7,
   "id": "095d2c4d-c27d-404b-ad54-514cf970335c",
   "metadata": {},
   "outputs": [],
   "source": [
    "data_pd = pd.DataFrame(data)"
   ]
  },
  {
   "cell_type": "code",
   "execution_count": 8,
   "id": "fe828756-0738-4fe8-bc12-c29e14ce3a01",
   "metadata": {},
   "outputs": [],
   "source": [
    "data_pd[\"CLASS\"] = data_pd[\"CLASS\"].apply(lambda c : c.decode(\"utf-8\"))"
   ]
  },
  {
   "cell_type": "code",
   "execution_count": null,
   "id": "dcade454-218f-4bab-ade9-be90e27bc020",
   "metadata": {},
   "outputs": [],
   "source": []
  }
 ],
 "metadata": {
  "kernelspec": {
   "display_name": "Python 3 (ipykernel)",
   "language": "python",
   "name": "python3"
  },
  "language_info": {
   "codemirror_mode": {
    "name": "ipython",
    "version": 3
   },
   "file_extension": ".py",
   "mimetype": "text/x-python",
   "name": "python",
   "nbconvert_exporter": "python",
   "pygments_lexer": "ipython3",
   "version": "3.12.7"
  }
 },
 "nbformat": 4,
 "nbformat_minor": 5
}
